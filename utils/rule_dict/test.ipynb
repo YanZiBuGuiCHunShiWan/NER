{
 "cells": [
  {
   "cell_type": "code",
   "execution_count": 7,
   "metadata": {
    "collapsed": true
   },
   "outputs": [
    {
     "name": "stdout",
     "output_type": "stream",
     "text": [
      "['张三', 'PER']\n",
      "['李四', 'PER']\n",
      "['王五', 'PER']\n",
      "['珠海市第二中学', 'ORG']\n"
     ]
    }
   ],
   "source": [
    "with open(\"./dict.txt\",\"r\",encoding=\"utf-8\") as f:\n",
    "    for line in f.readlines():\n",
    "        line=line.strip()\n",
    "        print(line.split())\n"
   ]
  },
  {
   "cell_type": "code",
   "execution_count": null,
   "outputs": [],
   "source": [],
   "metadata": {
    "collapsed": false,
    "pycharm": {
     "name": "#%%\n"
    }
   }
  }
 ],
 "metadata": {
  "kernelspec": {
   "display_name": "Python 3",
   "language": "python",
   "name": "python3"
  },
  "language_info": {
   "codemirror_mode": {
    "name": "ipython",
    "version": 2
   },
   "file_extension": ".py",
   "mimetype": "text/x-python",
   "name": "python",
   "nbconvert_exporter": "python",
   "pygments_lexer": "ipython2",
   "version": "2.7.6"
  }
 },
 "nbformat": 4,
 "nbformat_minor": 0
}